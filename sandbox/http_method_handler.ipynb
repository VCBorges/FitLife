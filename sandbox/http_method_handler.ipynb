{
 "cells": [
  {
   "cell_type": "code",
   "execution_count": null,
   "metadata": {},
   "outputs": [],
   "source": []
  },
  {
   "cell_type": "code",
   "execution_count": 1,
   "metadata": {},
   "outputs": [
    {
     "name": "stdout",
     "output_type": "stream",
     "text": [
      "GET Hello, Alice!\n",
      "POST Hello, Bob!\n",
      "PUT Hello, Carol!\n",
      "DELETE Hello, Dave!\n"
     ]
    }
   ],
   "source": [
    "# Step 1: Create a dictionary to map HTTP methods to functions\n",
    "http_dispatch_dict = {\n",
    "    'GET': {},\n",
    "    'POST': {},\n",
    "    'PUT': {},\n",
    "    'DELETE': {},\n",
    "}\n",
    "\n",
    "# Step 2: Create decorators for each HTTP method\n",
    "def http_method(method):\n",
    "    def decorator(path):\n",
    "        def wrapper(func):\n",
    "            http_dispatch_dict[method][path] = func\n",
    "            return func\n",
    "        return wrapper\n",
    "    return decorator\n",
    "\n",
    "get = http_method('GET')\n",
    "post = http_method('POST')\n",
    "put = http_method('PUT')\n",
    "delete = http_method('DELETE')\n",
    "\n",
    "# Step 3: Create a dispatcher function\n",
    "def http_dispatcher(method, path, *args, **kwargs):\n",
    "    if method in http_dispatch_dict and path in http_dispatch_dict[method]:\n",
    "        return http_dispatch_dict[method][path](*args, **kwargs)\n",
    "    else:\n",
    "        raise ValueError(f\"No function registered for method {method} and path {path}\")\n",
    "\n",
    "# Register functions with specific HTTP methods and paths\n",
    "@get('/hello')\n",
    "def hello(name):\n",
    "    return f\"GET Hello, {name}!\"\n",
    "\n",
    "@post('/hello')\n",
    "def hello(name):\n",
    "    return f\"POST Hello, {name}!\"\n",
    "\n",
    "@put('/hello')\n",
    "def hello(name):\n",
    "    return f\"PUT Hello, {name}!\"\n",
    "\n",
    "@delete('/hello')\n",
    "def hello(name):\n",
    "    return f\"DELETE Hello, {name}!\"\n",
    "\n",
    "# Test the dispatcher\n",
    "print(http_dispatcher('GET', '/hello', 'Alice'))      # Output: GET Hello, Alice!\n",
    "print(http_dispatcher('POST', '/hello', 'Bob'))       # Output: POST Hello, Bob!\n",
    "print(http_dispatcher('PUT', '/hello', 'Carol'))      # Output: PUT Hello, Carol!\n",
    "print(http_dispatcher('DELETE', '/hello', 'Dave'))    # Output: DELETE Hello, Dave!\n",
    "# print(http_dispatcher('PATCH', '/hello', 'Eve'))    # Raises ValueError: No function registered for method PATCH and path /hello\n"
   ]
  },
  {
   "cell_type": "code",
   "execution_count": 2,
   "metadata": {},
   "outputs": [
    {
     "ename": "ValueError",
     "evalue": "No function registered for method TESTE and path /hello",
     "output_type": "error",
     "traceback": [
      "\u001b[0;31m---------------------------------------------------------------------------\u001b[0m",
      "\u001b[0;31mValueError\u001b[0m                                Traceback (most recent call last)",
      "Cell \u001b[0;32mIn[2], line 1\u001b[0m\n\u001b[0;32m----> 1\u001b[0m \u001b[43mhttp_dispatcher\u001b[49m\u001b[43m(\u001b[49m\u001b[38;5;124;43m'\u001b[39;49m\u001b[38;5;124;43mTESTE\u001b[39;49m\u001b[38;5;124;43m'\u001b[39;49m\u001b[43m,\u001b[49m\u001b[43m \u001b[49m\u001b[38;5;124;43m'\u001b[39;49m\u001b[38;5;124;43m/hello\u001b[39;49m\u001b[38;5;124;43m'\u001b[39;49m\u001b[43m,\u001b[49m\u001b[43m \u001b[49m\u001b[38;5;124;43m'\u001b[39;49m\u001b[38;5;124;43mAlice\u001b[39;49m\u001b[38;5;124;43m'\u001b[39;49m\u001b[43m)\u001b[49m\n",
      "Cell \u001b[0;32mIn[1], line 28\u001b[0m, in \u001b[0;36mhttp_dispatcher\u001b[0;34m(method, path, *args, **kwargs)\u001b[0m\n\u001b[1;32m     26\u001b[0m     \u001b[38;5;28;01mreturn\u001b[39;00m http_dispatch_dict[method][path](\u001b[38;5;241m*\u001b[39margs, \u001b[38;5;241m*\u001b[39m\u001b[38;5;241m*\u001b[39mkwargs)\n\u001b[1;32m     27\u001b[0m \u001b[38;5;28;01melse\u001b[39;00m:\n\u001b[0;32m---> 28\u001b[0m     \u001b[38;5;28;01mraise\u001b[39;00m \u001b[38;5;167;01mValueError\u001b[39;00m(\u001b[38;5;124mf\u001b[39m\u001b[38;5;124m\"\u001b[39m\u001b[38;5;124mNo function registered for method \u001b[39m\u001b[38;5;132;01m{\u001b[39;00mmethod\u001b[38;5;132;01m}\u001b[39;00m\u001b[38;5;124m and path \u001b[39m\u001b[38;5;132;01m{\u001b[39;00mpath\u001b[38;5;132;01m}\u001b[39;00m\u001b[38;5;124m\"\u001b[39m)\n",
      "\u001b[0;31mValueError\u001b[0m: No function registered for method TESTE and path /hello"
     ]
    }
   ],
   "source": [
    "http_dispatcher('TESTE', '/hello', 'Alice')"
   ]
  },
  {
   "cell_type": "code",
   "execution_count": null,
   "metadata": {},
   "outputs": [],
   "source": [
    "def somne_decorator():\n",
    "    "
   ]
  }
 ],
 "metadata": {
  "kernelspec": {
   "display_name": ".venv",
   "language": "python",
   "name": "python3"
  },
  "language_info": {
   "codemirror_mode": {
    "name": "ipython",
    "version": 3
   },
   "file_extension": ".py",
   "mimetype": "text/x-python",
   "name": "python",
   "nbconvert_exporter": "python",
   "pygments_lexer": "ipython3",
   "version": "3.12.3"
  }
 },
 "nbformat": 4,
 "nbformat_minor": 2
}
