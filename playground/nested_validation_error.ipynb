{
 "cells": [
  {
   "cell_type": "code",
   "execution_count": 1,
   "metadata": {},
   "outputs": [],
   "source": [
    "%load_ext autoreload\n",
    "%autoreload 2\n",
    "import sys\n",
    "\n",
    "sys.path.append('..')"
   ]
  },
  {
   "cell_type": "code",
   "execution_count": 2,
   "metadata": {},
   "outputs": [],
   "source": [
    "import os\n",
    "import django\n",
    "\n",
    "os.environ.setdefault('DJANGO_SETTINGS_MODULE', 'config.settings')\n",
    "os.environ['DJANGO_ALLOW_ASYNC_UNSAFE'] = 'true'\n",
    "django.setup()"
   ]
  },
  {
   "cell_type": "code",
   "execution_count": 5,
   "metadata": {},
   "outputs": [],
   "source": [
    "from apps.core.exceptions import RequestValidationError\n",
    "from apps.core.forms import BaseForm\n",
    "from django.forms import ValidationError\n",
    "from django import forms\n",
    "from apps.core.form_fields import ListField, NestedFormField\n",
    "from django.forms.utils import ErrorDict, ErrorList\n",
    "\n",
    "from django.http import JsonResponse\n",
    "\n",
    "from rich import print\n",
    "from rest_framework.serializers import ValidationError as DRFValidationError"
   ]
  },
  {
   "cell_type": "code",
   "execution_count": null,
   "metadata": {},
   "outputs": [],
   "source": [
    "class ChildForm(BaseForm):\n",
    "    field1 = forms.CharField(required=True)\n",
    "\n",
    "\n",
    "class ParentForm(BaseForm):\n",
    "    child_field = NestedFormField(form_class=ChildForm, required=True)"
   ]
  },
  {
   "cell_type": "code",
   "execution_count": null,
   "metadata": {},
   "outputs": [],
   "source": [
    "dict_validation_errror = ValidationError({'name': ['This field is required.']})\n",
    "display(dict_validation_errror)\n",
    "\n",
    "print(f'{dict_validation_errror.messages = }')\n",
    "print(f'{dict_validation_errror.error_dict = }')\n",
    "\n",
    "\n",
    "errors = {}\n",
    "field = 'name'\n",
    "\n",
    "print(f'{type(dict_validation_errror.error_dict) = }')\n",
    "\n",
    "error = {field: dict_validation_errror.error_dict}\n",
    "for field, error_dict in error.items():\n",
    "    errors[field] = error_dict\n",
    "\n",
    "print(f'{errors = }')"
   ]
  },
  {
   "cell_type": "code",
   "execution_count": 41,
   "metadata": {},
   "outputs": [
    {
     "data": {
      "text/plain": [
       "{}"
      ]
     },
     "execution_count": 41,
     "metadata": {},
     "output_type": "execute_result"
    }
   ],
   "source": [
    "ErrorDict()"
   ]
  },
  {
   "cell_type": "code",
   "execution_count": 11,
   "metadata": {},
   "outputs": [
    {
     "data": {
      "text/html": [
       "<pre style=\"white-space:pre;overflow-x:auto;line-height:normal;font-family:Menlo,'DejaVu Sans Mono',consolas,'Courier New',monospace\">ChildForm::add_error::error = <span style=\"color: #800080; text-decoration-color: #800080; font-weight: bold\">ValidationError</span><span style=\"font-weight: bold\">([</span><span style=\"color: #008000; text-decoration-color: #008000\">'This field is required.'</span><span style=\"font-weight: bold\">])</span>\n",
       "</pre>\n"
      ],
      "text/plain": [
       "ChildForm::add_error::error = \u001b[1;35mValidationError\u001b[0m\u001b[1m(\u001b[0m\u001b[1m[\u001b[0m\u001b[32m'This field is required.'\u001b[0m\u001b[1m]\u001b[0m\u001b[1m)\u001b[0m\n"
      ]
     },
     "metadata": {},
     "output_type": "display_data"
    },
    {
     "data": {
      "text/html": [
       "<pre style=\"white-space:pre;overflow-x:auto;line-height:normal;font-family:Menlo,'DejaVu Sans Mono',consolas,'Courier New',monospace\">ChildForm::handle_error_list::error = <span style=\"color: #800080; text-decoration-color: #800080; font-weight: bold\">ValidationError</span><span style=\"font-weight: bold\">([</span><span style=\"color: #008000; text-decoration-color: #008000\">'This field is required.'</span><span style=\"font-weight: bold\">])</span>\n",
       "</pre>\n"
      ],
      "text/plain": [
       "ChildForm::handle_error_list::error = \u001b[1;35mValidationError\u001b[0m\u001b[1m(\u001b[0m\u001b[1m[\u001b[0m\u001b[32m'This field is required.'\u001b[0m\u001b[1m]\u001b[0m\u001b[1m)\u001b[0m\n"
      ]
     },
     "metadata": {},
     "output_type": "display_data"
    },
    {
     "data": {
      "text/html": [
       "<pre style=\"white-space:pre;overflow-x:auto;line-height:normal;font-family:Menlo,'DejaVu Sans Mono',consolas,'Courier New',monospace\">ParentForm::add_error::error = <span style=\"color: #800080; text-decoration-color: #800080; font-weight: bold\">ValidationError</span><span style=\"font-weight: bold\">({</span><span style=\"color: #008000; text-decoration-color: #008000\">'field1'</span>: <span style=\"font-weight: bold\">[</span><span style=\"color: #008000; text-decoration-color: #008000\">'This field is required.'</span><span style=\"font-weight: bold\">]})</span>\n",
       "</pre>\n"
      ],
      "text/plain": [
       "ParentForm::add_error::error = \u001b[1;35mValidationError\u001b[0m\u001b[1m(\u001b[0m\u001b[1m{\u001b[0m\u001b[32m'field1'\u001b[0m: \u001b[1m[\u001b[0m\u001b[32m'This field is required.'\u001b[0m\u001b[1m]\u001b[0m\u001b[1m}\u001b[0m\u001b[1m)\u001b[0m\n"
      ]
     },
     "metadata": {},
     "output_type": "display_data"
    },
    {
     "data": {
      "text/html": [
       "<pre style=\"white-space:pre;overflow-x:auto;line-height:normal;font-family:Menlo,'DejaVu Sans Mono',consolas,'Courier New',monospace\">nested_form.errors = <span style=\"font-weight: bold\">{</span><span style=\"color: #008000; text-decoration-color: #008000\">'child_field'</span>: <span style=\"font-weight: bold\">{</span><span style=\"color: #008000; text-decoration-color: #008000\">'field1'</span>: <span style=\"font-weight: bold\">[</span><span style=\"color: #008000; text-decoration-color: #008000\">'This field is required.'</span><span style=\"font-weight: bold\">]}}</span>\n",
       "</pre>\n"
      ],
      "text/plain": [
       "nested_form.errors = \u001b[1m{\u001b[0m\u001b[32m'child_field'\u001b[0m: \u001b[1m{\u001b[0m\u001b[32m'field1'\u001b[0m: \u001b[1m[\u001b[0m\u001b[32m'This field is required.'\u001b[0m\u001b[1m]\u001b[0m\u001b[1m}\u001b[0m\u001b[1m}\u001b[0m\n"
      ]
     },
     "metadata": {},
     "output_type": "display_data"
    }
   ],
   "source": [
    "nested_form = ParentForm(data={'child_field': {'field1': None}})\n",
    "\n",
    "nested_form.is_valid(raise_exception=False)\n",
    "\n",
    "print(f'{nested_form.errors = }')"
   ]
  },
  {
   "cell_type": "code",
   "execution_count": null,
   "metadata": {},
   "outputs": [],
   "source": [
    "JsonResponse(data=ErrorDict(errors), status=400)"
   ]
  },
  {
   "cell_type": "code",
   "execution_count": 9,
   "metadata": {},
   "outputs": [
    {
     "data": {
      "text/html": [
       "<pre style=\"white-space:pre;overflow-x:auto;line-height:normal;font-family:Menlo,'DejaVu Sans Mono',consolas,'Courier New',monospace\">ChildForm::add_error::error = <span style=\"color: #800080; text-decoration-color: #800080; font-weight: bold\">ValidationError</span><span style=\"font-weight: bold\">([</span><span style=\"color: #008000; text-decoration-color: #008000\">'This field is required.'</span><span style=\"font-weight: bold\">])</span>\n",
       "</pre>\n"
      ],
      "text/plain": [
       "ChildForm::add_error::error = \u001b[1;35mValidationError\u001b[0m\u001b[1m(\u001b[0m\u001b[1m[\u001b[0m\u001b[32m'This field is required.'\u001b[0m\u001b[1m]\u001b[0m\u001b[1m)\u001b[0m\n"
      ]
     },
     "metadata": {},
     "output_type": "display_data"
    },
    {
     "data": {
      "text/html": [
       "<pre style=\"white-space:pre;overflow-x:auto;line-height:normal;font-family:Menlo,'DejaVu Sans Mono',consolas,'Courier New',monospace\">ChildForm::handle_error_list::error = <span style=\"color: #800080; text-decoration-color: #800080; font-weight: bold\">ValidationError</span><span style=\"font-weight: bold\">([</span><span style=\"color: #008000; text-decoration-color: #008000\">'This field is required.'</span><span style=\"font-weight: bold\">])</span>\n",
       "</pre>\n"
      ],
      "text/plain": [
       "ChildForm::handle_error_list::error = \u001b[1;35mValidationError\u001b[0m\u001b[1m(\u001b[0m\u001b[1m[\u001b[0m\u001b[32m'This field is required.'\u001b[0m\u001b[1m]\u001b[0m\u001b[1m)\u001b[0m\n"
      ]
     },
     "metadata": {},
     "output_type": "display_data"
    },
    {
     "data": {
      "text/html": [
       "<pre style=\"white-space:pre;overflow-x:auto;line-height:normal;font-family:Menlo,'DejaVu Sans Mono',consolas,'Courier New',monospace\">form2.errors = <span style=\"font-weight: bold\">{</span><span style=\"color: #008000; text-decoration-color: #008000\">'field1'</span>: <span style=\"font-weight: bold\">[</span><span style=\"color: #008000; text-decoration-color: #008000\">'This field is required.'</span><span style=\"font-weight: bold\">]}</span>\n",
       "</pre>\n"
      ],
      "text/plain": [
       "form2.errors = \u001b[1m{\u001b[0m\u001b[32m'field1'\u001b[0m: \u001b[1m[\u001b[0m\u001b[32m'This field is required.'\u001b[0m\u001b[1m]\u001b[0m\u001b[1m}\u001b[0m\n"
      ]
     },
     "metadata": {},
     "output_type": "display_data"
    },
    {
     "data": {
      "text/html": [
       "<pre style=\"white-space:pre;overflow-x:auto;line-height:normal;font-family:Menlo,'DejaVu Sans Mono',consolas,'Courier New',monospace\">err.error_list = <span style=\"font-weight: bold\">[</span><span style=\"color: #800080; text-decoration-color: #800080; font-weight: bold\">ValidationError</span><span style=\"font-weight: bold\">([</span><span style=\"color: #008000; text-decoration-color: #008000\">'This field is required.'</span><span style=\"font-weight: bold\">])]</span>\n",
       "</pre>\n"
      ],
      "text/plain": [
       "err.error_list = \u001b[1m[\u001b[0m\u001b[1;35mValidationError\u001b[0m\u001b[1m(\u001b[0m\u001b[1m[\u001b[0m\u001b[32m'This field is required.'\u001b[0m\u001b[1m]\u001b[0m\u001b[1m)\u001b[0m\u001b[1m]\u001b[0m\n"
      ]
     },
     "metadata": {},
     "output_type": "display_data"
    },
    {
     "data": {
      "text/html": [
       "<pre style=\"white-space:pre;overflow-x:auto;line-height:normal;font-family:Menlo,'DejaVu Sans Mono',consolas,'Courier New',monospace\">error_list = <span style=\"font-weight: bold\">[</span><span style=\"color: #008000; text-decoration-color: #008000\">'This field is required.'</span><span style=\"font-weight: bold\">]</span>\n",
       "</pre>\n"
      ],
      "text/plain": [
       "error_list = \u001b[1m[\u001b[0m\u001b[32m'This field is required.'\u001b[0m\u001b[1m]\u001b[0m\n"
      ]
     },
     "metadata": {},
     "output_type": "display_data"
    }
   ],
   "source": [
    "form2 = ChildForm(data={'field1': None})\n",
    "form2.is_valid(raise_exception=False)\n",
    "print(f'{form2.errors = }')\n",
    "\n",
    "err = ValidationError(['This field is required.'])\n",
    "\n",
    "print(f'{err.error_list = }')\n",
    "\n",
    "\n",
    "error_list = ErrorList()\n",
    "\n",
    "error_list.extend(err.error_list)\n",
    "\n",
    "print(f'{error_list = }')"
   ]
  },
  {
   "cell_type": "code",
   "execution_count": 35,
   "metadata": {},
   "outputs": [
    {
     "data": {
      "text/plain": [
       "{'field1': ['This field is required.']}"
      ]
     },
     "execution_count": 35,
     "metadata": {},
     "output_type": "execute_result"
    }
   ],
   "source": [
    "a = ErrorDict()\n",
    "a.update(ValidationError({'field1': ['This field is required.']}))\n",
    "\n",
    "a"
   ]
  },
  {
   "cell_type": "code",
   "execution_count": 19,
   "metadata": {},
   "outputs": [
    {
     "data": {
      "text/plain": [
       "ValidationError({'field1': ['This field is required.']})"
      ]
     },
     "execution_count": 19,
     "metadata": {},
     "output_type": "execute_result"
    }
   ],
   "source": [
    "ValidationError({'field1': ['This field is required.']})"
   ]
  },
  {
   "cell_type": "code",
   "execution_count": 46,
   "metadata": {},
   "outputs": [
    {
     "data": {
      "text/plain": [
       "[{'field1': ['This field is required.']},\n",
       " {'field1': ['This field is required.']}]"
      ]
     },
     "execution_count": 46,
     "metadata": {},
     "output_type": "execute_result"
    }
   ],
   "source": [
    "val_error_list = NestedValidationError(\n",
    "    [{'field1': ['This field is required.']}, {'field1': ['This field is required.']}]\n",
    ")\n",
    "val_error_list.error_list"
   ]
  },
  {
   "cell_type": "code",
   "execution_count": 9,
   "metadata": {},
   "outputs": [
    {
     "data": {
      "text/plain": [
       "{'child_field1': {'child_child_field1': ['This field is required.']}}"
      ]
     },
     "execution_count": 9,
     "metadata": {},
     "output_type": "execute_result"
    }
   ],
   "source": [
    "NestedValidationError(\n",
    "    {'child_field1': {'child_child_field1': ['This field is required.']}}\n",
    ")"
   ]
  },
  {
   "cell_type": "code",
   "execution_count": 14,
   "metadata": {},
   "outputs": [
    {
     "data": {
      "text/plain": [
       "[{'child_field1': {'child_child_field1': ['This field is required.']}}, {'child_field2': {'child_child_field2': ['This field is required.']}}]"
      ]
     },
     "execution_count": 14,
     "metadata": {},
     "output_type": "execute_result"
    }
   ],
   "source": [
    "ErrorList(\n",
    "    [\n",
    "        {'child_field1': {'child_child_field1': ['This field is required.']}},\n",
    "        {'child_field2': {'child_child_field2': ['This field is required.']}},\n",
    "    ]\n",
    ")"
   ]
  }
 ],
 "metadata": {
  "kernelspec": {
   "display_name": ".venv",
   "language": "python",
   "name": "python3"
  },
  "language_info": {
   "codemirror_mode": {
    "name": "ipython",
    "version": 3
   },
   "file_extension": ".py",
   "mimetype": "text/x-python",
   "name": "python",
   "nbconvert_exporter": "python",
   "pygments_lexer": "ipython3",
   "version": "3.12.3"
  }
 },
 "nbformat": 4,
 "nbformat_minor": 2
}
