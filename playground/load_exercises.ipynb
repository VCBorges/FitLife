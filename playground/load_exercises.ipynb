{
 "cells": [
  {
   "cell_type": "code",
   "execution_count": 1,
   "metadata": {},
   "outputs": [],
   "source": [
    "%load_ext autoreload\n",
    "%autoreload 2\n",
    "import sys\n",
    "\n",
    "sys.path.append('..')\n",
    "\n",
    "import os\n",
    "import django\n",
    "\n",
    "os.environ.setdefault('DJANGO_SETTINGS_MODULE', 'config.settings')\n",
    "os.environ['DJANGO_ALLOW_ASYNC_UNSAFE'] = 'true'\n",
    "django.setup()"
   ]
  },
  {
   "cell_type": "code",
   "execution_count": 2,
   "metadata": {},
   "outputs": [],
   "source": [
    "import json\n",
    "from django.db import transaction\n",
    "from apps.gym import models\n",
    "from rich import print"
   ]
  },
  {
   "cell_type": "code",
   "execution_count": null,
   "metadata": {},
   "outputs": [],
   "source": [
    "with open('../docs/final_corrected_exercise_list.json', 'r') as file:\n",
    "    exercises = json.load(file)"
   ]
  },
  {
   "cell_type": "code",
   "execution_count": 33,
   "metadata": {},
   "outputs": [],
   "source": [
    "@transaction.atomic\n",
    "def execute():\n",
    "    for exercise in exercises:\n",
    "        muscle_obj = models.MuscleGroups.objects.get(name=exercise['muscle'].lower())\n",
    "        if exercise['equipment'] and exercise['equipment'] not in [\n",
    "            'Down to up',\n",
    "            'Up to down',\n",
    "            'Assisted',\n",
    "            'Weighted',\n",
    "            'Svend Press',\n",
    "            'Bodyweight',\n",
    "            'Machine Plates',\n",
    "            'Gironda',\n",
    "        ]:\n",
    "            equipment_obj = models.Equipments.objects.get(\n",
    "                name=exercise['equipment'].lower()\n",
    "            )\n",
    "        else:\n",
    "            equipment_obj = None\n",
    "\n",
    "        models.Exercises.objects.create(\n",
    "            name=exercise['name']['en'],\n",
    "            description=exercise['description']['en'],\n",
    "            primary_muscle=muscle_obj,\n",
    "            equipment=equipment_obj,\n",
    "            translations={\n",
    "                'en': {\n",
    "                    'name': exercise['name']['en'],\n",
    "                    'description': exercise['description']['en'],\n",
    "                },\n",
    "                'pt': {\n",
    "                    'name': exercise['name']['pt'],\n",
    "                    'description': exercise['description']['pt'],\n",
    "                },\n",
    "            },\n",
    "        )\n",
    "\n",
    "\n",
    "execute()"
   ]
  },
  {
   "cell_type": "code",
   "execution_count": 4,
   "metadata": {},
   "outputs": [],
   "source": [
    "from apps.core.typed import ModelType"
   ]
  },
  {
   "cell_type": "code",
   "execution_count": 3,
   "metadata": {},
   "outputs": [],
   "source": [
    "exercise = models.Exercises.objects.all()[1]"
   ]
  },
  {
   "cell_type": "code",
   "execution_count": 5,
   "metadata": {},
   "outputs": [
    {
     "ename": "TypeError",
     "evalue": "isinstance() arg 2 must be a type, a tuple of types, or a union",
     "output_type": "error",
     "traceback": [
      "\u001b[0;31m---------------------------------------------------------------------------\u001b[0m",
      "\u001b[0;31mTypeError\u001b[0m                                 Traceback (most recent call last)",
      "Cell \u001b[0;32mIn[5], line 1\u001b[0m\n\u001b[0;32m----> 1\u001b[0m \u001b[38;5;28;43misinstance\u001b[39;49m\u001b[43m(\u001b[49m\u001b[43mexercise\u001b[49m\u001b[43m,\u001b[49m\u001b[43m \u001b[49m\u001b[43mModelType\u001b[49m\u001b[43m)\u001b[49m\n",
      "\u001b[0;31mTypeError\u001b[0m: isinstance() arg 2 must be a type, a tuple of types, or a union"
     ]
    }
   ],
   "source": [
    "isinstance(exercise, ModelType)"
   ]
  }
 ],
 "metadata": {
  "kernelspec": {
   "display_name": ".venv",
   "language": "python",
   "name": "python3"
  },
  "language_info": {
   "codemirror_mode": {
    "name": "ipython",
    "version": 3
   },
   "file_extension": ".py",
   "mimetype": "text/x-python",
   "name": "python",
   "nbconvert_exporter": "python",
   "pygments_lexer": "ipython3",
   "version": "3.12.3"
  }
 },
 "nbformat": 4,
 "nbformat_minor": 2
}
