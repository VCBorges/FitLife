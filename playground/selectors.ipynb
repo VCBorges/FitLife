{
 "cells": [
  {
   "cell_type": "code",
   "execution_count": 8,
   "metadata": {},
   "outputs": [
    {
     "name": "stdout",
     "output_type": "stream",
     "text": [
      "The autoreload extension is already loaded. To reload it, use:\n",
      "  %reload_ext autoreload\n"
     ]
    }
   ],
   "source": [
    "%load_ext autoreload\n",
    "%autoreload 2\n",
    "import sys\n",
    "sys.path.append('..')\n",
    "\n",
    "import os\n",
    "import django\n",
    "os.environ.setdefault('DJANGO_SETTINGS_MODULE', 'config.settings')\n",
    "os.environ[\"DJANGO_ALLOW_ASYNC_UNSAFE\"] = \"true\"\n",
    "django.setup()"
   ]
  },
  {
   "cell_type": "code",
   "execution_count": 12,
   "metadata": {},
   "outputs": [],
   "source": [
    "from apps.gym import models\n",
    "from apps.gym.selectors import (\n",
    "    ExercisesSelector, \n",
    "    ListExercisesLookups,\n",
    "    MuscleGroupsSelector,\n",
    ")\n",
    "from apps.core.utils import BaseLookupDTO\n",
    "from apps.core.constants import Language\n",
    "from django.db.models import Prefetch\n",
    "\n",
    "from django.db import connection\n",
    "from django.db.models import F\n",
    "from django.contrib.postgres.fields import jsonb\n",
    "from django.http import JsonResponse\n"
   ]
  },
  {
   "cell_type": "code",
   "execution_count": 10,
   "metadata": {},
   "outputs": [
    {
     "data": {
      "text/plain": [
       "<MuscleGroups (name='{'en': 'abdominals', 'pt': 'abdominais'}')>"
      ]
     },
     "execution_count": 10,
     "metadata": {},
     "output_type": "execute_result"
    }
   ],
   "source": [
    "muscle = models.MuscleGroups.objects.all()[0]\n",
    "muscle"
   ]
  },
  {
   "cell_type": "code",
   "execution_count": 15,
   "metadata": {},
   "outputs": [
    {
     "data": {
      "text/plain": [
       "[{'id': UUID('42862e97-a527-4344-8d58-75024d5a76fc'),\n",
       "  'name': 'Ab Scissors',\n",
       "  'muscle': 'abdominais'},\n",
       " {'id': UUID('909c5904-f82a-4275-bb67-e1820fce7361'),\n",
       "  'name': 'Bicycle Crunch',\n",
       "  'muscle': 'abdominais'},\n",
       " {'id': UUID('2768cf93-eebe-4266-a4be-a0f6fa7b9892'),\n",
       "  'name': 'Cable Crunch',\n",
       "  'muscle': 'abdominais'},\n",
       " {'id': UUID('befc74ff-30cc-41a1-9a56-c6d4d9cae552'),\n",
       "  'name': 'Cable Twist',\n",
       "  'muscle': 'abdominais'},\n",
       " {'id': UUID('6a162bcc-b678-4275-b40f-cf491a9e3775'),\n",
       "  'name': 'Crunch',\n",
       "  'muscle': 'abdominais'},\n",
       " {'id': UUID('707ba5ea-c88b-487d-8464-f184d6e7ef84'),\n",
       "  'name': 'Crunch',\n",
       "  'muscle': 'abdominais'},\n",
       " {'id': UUID('8ad77a98-2e63-403c-8b57-47a3d3e1556a'),\n",
       "  'name': 'Crunch',\n",
       "  'muscle': 'abdominais'},\n",
       " {'id': UUID('2484d226-cdee-4121-a7ae-24ff92d5ef6f'),\n",
       "  'name': 'Dead Bug',\n",
       "  'muscle': 'abdominais'},\n",
       " {'id': UUID('25ab0bcc-05a6-4cbd-831f-ef1878e8f942'),\n",
       "  'name': 'Decline Crunch',\n",
       "  'muscle': 'abdominais'},\n",
       " {'id': UUID('a1b84d30-7870-49ed-9d72-07b480ad1dab'),\n",
       "  'name': 'Decline Crunch',\n",
       "  'muscle': 'abdominais'},\n",
       " {'id': UUID('c68d1a94-850b-4f8a-83e3-11369d54d2c4'),\n",
       "  'name': 'Elbow to Knee',\n",
       "  'muscle': 'abdominais'},\n",
       " {'id': UUID('71701823-c515-4e16-93c6-acc6c8e025ed'),\n",
       "  'name': 'Flutter Kicks',\n",
       "  'muscle': 'abdominais'},\n",
       " {'id': UUID('c9c75db0-3909-4e1e-9814-46257edc595c'),\n",
       "  'name': 'Hanging Leg Raise',\n",
       "  'muscle': 'abdominais'},\n",
       " {'id': UUID('d388ccfe-68c7-4c1a-aa24-65f5a9f49534'),\n",
       "  'name': 'Heel Taps',\n",
       "  'muscle': 'abdominais'},\n",
       " {'id': UUID('ccf6f2f3-2f6e-4ace-9159-3a241310493b'),\n",
       "  'name': 'Hollow Rock',\n",
       "  'muscle': 'abdominais'},\n",
       " {'id': UUID('6548ee6a-ebac-457f-9c0c-48080a712ec1'),\n",
       "  'name': 'Jack Knife',\n",
       "  'muscle': 'abdominais'},\n",
       " {'id': UUID('ecbc86d8-a1b7-4548-9680-cadb196fb36b'),\n",
       "  'name': 'Knee Raise Parallel Bars',\n",
       "  'muscle': 'abdominais'},\n",
       " {'id': UUID('5778b77f-09df-4c87-9402-c2199f7fdf44'),\n",
       "  'name': 'Landmine 180',\n",
       "  'muscle': 'abdominais'},\n",
       " {'id': UUID('20e3159a-4950-4f9d-b7fb-b23ba93d9961'),\n",
       "  'name': 'Lying Knee Raise',\n",
       "  'muscle': 'abdominais'},\n",
       " {'id': UUID('bdaf6846-df6d-4055-a796-5a447dd20fe6'),\n",
       "  'name': 'Oblique Crunch',\n",
       "  'muscle': 'abdominais'},\n",
       " {'id': UUID('d2f1d578-bd74-4886-a7ed-597d2b2a33fa'),\n",
       "  'name': 'Reverse Crunch',\n",
       "  'muscle': 'abdominais'},\n",
       " {'id': UUID('b98fa2ea-5a76-42d5-8dda-f636f24f6c5f'),\n",
       "  'name': 'Reverse Plank',\n",
       "  'muscle': 'abdominais'},\n",
       " {'id': UUID('b8a83613-353a-473a-8487-04d97e6a0d12'),\n",
       "  'name': 'Russian Twist',\n",
       "  'muscle': 'abdominais'},\n",
       " {'id': UUID('8491ed5d-3082-4922-866b-92e78b4c5831'),\n",
       "  'name': 'Russian Twist',\n",
       "  'muscle': 'abdominais'},\n",
       " {'id': UUID('3bd41206-7d3a-48aa-a9b9-97cac38e015d'),\n",
       "  'name': 'Side Bend',\n",
       "  'muscle': 'abdominais'},\n",
       " {'id': UUID('8a46a9e1-e89a-4862-a27c-d8fffc6e9cf7'),\n",
       "  'name': 'Side Bend',\n",
       "  'muscle': 'abdominais'},\n",
       " {'id': UUID('ab60d823-3b4c-45f4-9931-fefbca5b4058'),\n",
       "  'name': 'Sit Up',\n",
       "  'muscle': 'abdominais'},\n",
       " {'id': UUID('2b907f65-4c9f-4984-bc54-4d19abdef163'),\n",
       "  'name': 'Spiderman',\n",
       "  'muscle': 'abdominais'},\n",
       " {'id': UUID('7c564ecd-9359-4669-ab20-00bdcdb494c9'),\n",
       "  'name': 'Toes to Bar',\n",
       "  'muscle': 'abdominais'},\n",
       " {'id': UUID('883c93b2-6045-49cf-b684-1c9b987ca8f5'),\n",
       "  'name': 'Torso Rotation',\n",
       "  'muscle': 'abdominais'},\n",
       " {'id': UUID('015ada3b-3969-4344-8aaa-38a350ab7f8b'),\n",
       "  'name': 'V Up',\n",
       "  'muscle': 'abdominais'},\n",
       " {'id': UUID('963b0945-79c6-4a29-9fd0-7f86e0478afd'),\n",
       "  'name': 'Roda Abdominal',\n",
       "  'muscle': 'abdominais'},\n",
       " {'id': UUID('6e6bff7d-eaa0-433a-9578-4c937ce97eba'),\n",
       "  'name': 'Bicycle Crunch Raised Legs',\n",
       "  'muscle': 'abdominais'},\n",
       " {'id': UUID('6b0f8558-ffbd-4899-ba69-3ca803f63bee'),\n",
       "  'name': 'Cable Core Palloff Press',\n",
       "  'muscle': 'abdominais'},\n",
       " {'id': UUID('f9cb12a8-d64d-413f-9083-ec0a8f4c3182'),\n",
       "  'name': 'Cable Twist',\n",
       "  'muscle': 'abdominais'},\n",
       " {'id': UUID('03aa72dc-3fab-44a0-bdce-a3e4aa807073'),\n",
       "  'name': 'Dragon Flag',\n",
       "  'muscle': 'abdominais'},\n",
       " {'id': UUID('d52b7293-8c2e-4626-9526-840d9fd7c3d9'),\n",
       "  'name': 'Dragonfly',\n",
       "  'muscle': 'abdominais'},\n",
       " {'id': UUID('02fba2c4-1702-4d59-8742-1e3bf357ff1e'),\n",
       "  'name': 'Front Lever Hold',\n",
       "  'muscle': 'abdominais'},\n",
       " {'id': UUID('211963d9-5043-4ff6-9c5e-463ae6f3995e'),\n",
       "  'name': 'Front Lever Raise',\n",
       "  'muscle': 'abdominais'},\n",
       " {'id': UUID('9350946c-324b-443c-824b-2d4d604d42fb'),\n",
       "  'name': 'Hanging Knee Raise',\n",
       "  'muscle': 'abdominais'},\n",
       " {'id': UUID('cac6e2e9-7afb-463c-a804-4546dac260e2'),\n",
       "  'name': 'Jackknife Sit Up',\n",
       "  'muscle': 'abdominais'},\n",
       " {'id': UUID('28c2f0ad-b2a2-45f9-bcf5-d45692279263'),\n",
       "  'name': 'L-Sit Hold',\n",
       "  'muscle': 'abdominais'},\n",
       " {'id': UUID('13f4d41c-a1f0-4242-b008-8d356243fcdd'),\n",
       "  'name': 'Leg Raise Parallel Bars',\n",
       "  'muscle': 'abdominais'},\n",
       " {'id': UUID('f5c254fe-948a-4e9e-8e8a-25eb1b47cf10'),\n",
       "  'name': 'Lying Leg Raise',\n",
       "  'muscle': 'abdominais'},\n",
       " {'id': UUID('7f3c4808-02a9-41c8-9bcc-ee7c5fb79b8b'),\n",
       "  'name': 'Plank',\n",
       "  'muscle': 'abdominais'},\n",
       " {'id': UUID('9b63f63b-fd20-480b-8f25-438bf4a4e33a'),\n",
       "  'name': 'Side Plank',\n",
       "  'muscle': 'abdominais'},\n",
       " {'id': UUID('cba49d8e-884e-4e06-bcd2-4e3f4fa40a6b'),\n",
       "  'name': 'Sit Up',\n",
       "  'muscle': 'abdominais'},\n",
       " {'id': UUID('1e97346c-644d-43e3-a03c-555796ce1b3d'),\n",
       "  'name': 'Toe Touch',\n",
       "  'muscle': 'abdominais'}]"
      ]
     },
     "execution_count": 15,
     "metadata": {},
     "output_type": "execute_result"
    }
   ],
   "source": [
    "qs = ExercisesSelector.list_exercises(\n",
    "    language=Language.PT,\n",
    "    lookups=ListExercisesLookups(\n",
    "        primary_muscle=muscle,\n",
    "    )\n",
    ")\n",
    "qs"
   ]
  },
  {
   "cell_type": "code",
   "execution_count": 14,
   "metadata": {},
   "outputs": [
    {
     "data": {
      "text/plain": [
       "[{'id': UUID('a048f875-4732-41c5-8eef-8a9dc313a19f'), 'name': 'abdominais'},\n",
       " {'id': UUID('a7723984-6af0-48c7-a5ae-8acfe529b441'), 'name': 'abdutores'},\n",
       " {'id': UUID('211383da-0b5b-494d-9242-b8924282c9df'), 'name': 'adutores'},\n",
       " {'id': UUID('47413ba9-056f-4057-9d1f-b5fcf05213f6'), 'name': 'pescoço'},\n",
       " {'id': UUID('a25eec4e-7953-4642-9711-3b35e7c556dc'), 'name': 'bíceps'},\n",
       " {'id': UUID('6a4d7fb5-9182-4010-8ec3-12bd0668b476'),\n",
       "  'name': 'parte superior das costas'},\n",
       " {'id': UUID('800aae8b-06cc-4d4f-b5be-078abdef201d'), 'name': 'cardio'},\n",
       " {'id': UUID('093dcd25-7090-4e51-9744-2484874c7053'), 'name': 'panturrilhas'},\n",
       " {'id': UUID('962f919e-bfa7-4254-9d61-2885b6f07641'), 'name': 'glúteos'},\n",
       " {'id': UUID('36ca3685-e055-4a6d-a2cf-2994b0f6c887'), 'name': 'lombares'},\n",
       " {'id': UUID('7f2898c4-cfe0-4dad-b135-5025ec17db0f'), 'name': 'quadríceps'},\n",
       " {'id': UUID('77f62268-13dd-4d33-a0b9-8eeec6b10a7c'), 'name': 'tríceps'},\n",
       " {'id': UUID('6372da93-5665-41b1-ad50-24f505432a06'), 'name': 'corpo inteiro'},\n",
       " {'id': UUID('0294d68d-ee28-4b10-8783-cbd4cfbbdb71'),\n",
       "  'name': 'parte inferior das costas'},\n",
       " {'id': UUID('bbf4127e-2a16-4759-87d5-fc0a350e7cc4'), 'name': 'peitoral'},\n",
       " {'id': UUID('149d547c-e9ae-4c11-9a96-76e53479281c'), 'name': 'antebraços'},\n",
       " {'id': UUID('7a82d6be-8ece-4c90-b642-ffbf0bccb85e'), 'name': 'isquiotibiais'},\n",
       " {'id': UUID('08767d26-da19-4d54-ad03-a633a046c83e'), 'name': 'ombros'},\n",
       " {'id': UUID('5b0ac526-5f79-43ce-9ebc-8e1d12d1c291'), 'name': 'trapézios'}]"
      ]
     },
     "execution_count": 14,
     "metadata": {},
     "output_type": "execute_result"
    }
   ],
   "source": [
    "muscles_qs = MuscleGroupsSelector.list_muscles(language=Language.PT)\n",
    "muscles_qs"
   ]
  },
  {
   "cell_type": "code",
   "execution_count": null,
   "metadata": {},
   "outputs": [],
   "source": [
    "models.Exercises.objects.annotate(\n",
    "    name=F('name__pt')\n",
    ").values('name')"
   ]
  },
  {
   "cell_type": "code",
   "execution_count": null,
   "metadata": {},
   "outputs": [],
   "source": [
    "qs = models.Exercises.objects.filter(name__pt='Supino')\n",
    "for i in qs:\n",
    "    print(i.name)\n",
    "    print(i.pk)"
   ]
  },
  {
   "cell_type": "code",
   "execution_count": null,
   "metadata": {},
   "outputs": [],
   "source": []
  },
  {
   "cell_type": "code",
   "execution_count": null,
   "metadata": {},
   "outputs": [],
   "source": [
    "qs = models.Exercises.objects.values('id').annotate(\n",
    "    name=F('name__pt')\n",
    ").values('name')\n",
    "qs = qs.filter(name='Supino')\n",
    "# qs.filter(name=None)\n",
    "qs"
   ]
  },
  {
   "cell_type": "code",
   "execution_count": null,
   "metadata": {},
   "outputs": [],
   "source": [
    "connection.queries"
   ]
  },
  {
   "cell_type": "code",
   "execution_count": null,
   "metadata": {},
   "outputs": [],
   "source": [
    "from django.db.models import F, CharField\n",
    "from django.db.models.expressions import ExpressionWrapper\n",
    "from django.db.models.functions import Cast, JSONObject\n",
    "\n",
    "models.Exercises.objects.annotate(\n",
    "    portuguese_name=Cast(\n",
    "        F('translations__pt__name'),\n",
    "        output_field=CharField()\n",
    "    )\n",
    ").values('id', 'portuguese_name')[0]['portuguese_name']\n"
   ]
  },
  {
   "cell_type": "code",
   "execution_count": null,
   "metadata": {},
   "outputs": [],
   "source": [
    "qs = ExercisesSelector.list_exercises()\n",
    "qs"
   ]
  },
  {
   "cell_type": "code",
   "execution_count": null,
   "metadata": {},
   "outputs": [],
   "source": [
    "list(qs)"
   ]
  },
  {
   "cell_type": "code",
   "execution_count": null,
   "metadata": {},
   "outputs": [],
   "source": [
    "JsonResponse(dict(a=list(qs)))"
   ]
  },
  {
   "cell_type": "code",
   "execution_count": null,
   "metadata": {},
   "outputs": [],
   "source": [
    "class TestLookup(BaseLookupDTO):\n",
    "    some: str\n",
    "    value: str"
   ]
  },
  {
   "cell_type": "code",
   "execution_count": null,
   "metadata": {},
   "outputs": [],
   "source": [
    "a = TestLookup(\n",
    "    some=1,\n",
    "    value=2,\n",
    ")"
   ]
  }
 ],
 "metadata": {
  "kernelspec": {
   "display_name": ".venv",
   "language": "python",
   "name": "python3"
  },
  "language_info": {
   "codemirror_mode": {
    "name": "ipython",
    "version": 3
   },
   "file_extension": ".py",
   "mimetype": "text/x-python",
   "name": "python",
   "nbconvert_exporter": "python",
   "pygments_lexer": "ipython3",
   "version": "3.12.3"
  }
 },
 "nbformat": 4,
 "nbformat_minor": 2
}
