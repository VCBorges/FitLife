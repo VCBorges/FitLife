{
 "cells": [
  {
   "cell_type": "code",
   "execution_count": null,
   "metadata": {},
   "outputs": [],
   "source": [
    "%load_ext autoreload\n",
    "%autoreload 2\n",
    "import sys\n",
    "\n",
    "sys.path.append('..')\n",
    "\n",
    "import os\n",
    "import django\n",
    "\n",
    "os.environ.setdefault('DJANGO_SETTINGS_MODULE', 'config.settings')\n",
    "os.environ['DJANGO_ALLOW_ASYNC_UNSAFE'] = 'true'\n",
    "django.setup()"
   ]
  },
  {
   "cell_type": "code",
   "execution_count": null,
   "metadata": {},
   "outputs": [],
   "source": [
    "from apps.gym import models\n",
    "from apps.gym.selectors import (\n",
    "    ExercisesSelector,\n",
    "    ListExercisesLookups,\n",
    "    MuscleGroupsSelector,\n",
    ")\n",
    "from apps.core.utils import BaseLookupDTO\n",
    "from apps.core.constants import Language\n",
    "from django.db.models import Prefetch\n",
    "\n",
    "from django.db import connection\n",
    "from django.db.models import F\n",
    "from django.contrib.postgres.fields import jsonb\n",
    "from django.http import JsonResponse"
   ]
  },
  {
   "cell_type": "code",
   "execution_count": null,
   "metadata": {},
   "outputs": [],
   "source": [
    "muscle = models.MuscleGroups.objects.all()[0]\n",
    "muscle"
   ]
  },
  {
   "cell_type": "code",
   "execution_count": null,
   "metadata": {},
   "outputs": [],
   "source": [
    "qs = ExercisesSelector.list_exercises(\n",
    "    language=Language.PT,\n",
    "    lookups=ListExercisesLookups(\n",
    "        primary_muscle=muscle,\n",
    "    ),\n",
    ")\n",
    "qs"
   ]
  },
  {
   "cell_type": "code",
   "execution_count": null,
   "metadata": {},
   "outputs": [],
   "source": [
    "muscles_qs = MuscleGroupsSelector.list_muscles(language=Language.PT)\n",
    "muscles_qs"
   ]
  },
  {
   "cell_type": "code",
   "execution_count": null,
   "metadata": {},
   "outputs": [],
   "source": [
    "models.Exercises.objects.annotate(name=F('name__pt')).values('name')"
   ]
  },
  {
   "cell_type": "code",
   "execution_count": null,
   "metadata": {},
   "outputs": [],
   "source": [
    "qs = models.Exercises.objects.filter(name__pt='Supino')\n",
    "for i in qs:\n",
    "    print(i.name)\n",
    "    print(i.pk)"
   ]
  },
  {
   "cell_type": "code",
   "execution_count": null,
   "metadata": {},
   "outputs": [],
   "source": []
  },
  {
   "cell_type": "code",
   "execution_count": null,
   "metadata": {},
   "outputs": [],
   "source": [
    "qs = models.Exercises.objects.values('id').annotate(name=F('name__pt')).values('name')\n",
    "qs = qs.filter(name='Supino')\n",
    "# qs.filter(name=None)\n",
    "qs"
   ]
  },
  {
   "cell_type": "code",
   "execution_count": null,
   "metadata": {},
   "outputs": [],
   "source": [
    "connection.queries"
   ]
  },
  {
   "cell_type": "code",
   "execution_count": null,
   "metadata": {},
   "outputs": [],
   "source": [
    "from django.db.models import F, CharField\n",
    "from django.db.models.expressions import ExpressionWrapper\n",
    "from django.db.models.functions import Cast, JSONObject\n",
    "\n",
    "models.Exercises.objects.annotate(\n",
    "    portuguese_name=Cast(F('translations__pt__name'), output_field=CharField())\n",
    ").values('id', 'portuguese_name')[0]['portuguese_name']"
   ]
  },
  {
   "cell_type": "code",
   "execution_count": null,
   "metadata": {},
   "outputs": [],
   "source": [
    "qs = ExercisesSelector.list_exercises()\n",
    "qs"
   ]
  },
  {
   "cell_type": "code",
   "execution_count": null,
   "metadata": {},
   "outputs": [],
   "source": [
    "list(qs)"
   ]
  },
  {
   "cell_type": "code",
   "execution_count": null,
   "metadata": {},
   "outputs": [],
   "source": [
    "JsonResponse(dict(a=list(qs)))"
   ]
  },
  {
   "cell_type": "code",
   "execution_count": null,
   "metadata": {},
   "outputs": [],
   "source": [
    "class TestLookup(BaseLookupDTO):\n",
    "    some: str\n",
    "    value: str"
   ]
  },
  {
   "cell_type": "code",
   "execution_count": null,
   "metadata": {},
   "outputs": [],
   "source": [
    "a = TestLookup(\n",
    "    some=1,\n",
    "    value=2,\n",
    ")"
   ]
  },
  {
   "cell_type": "code",
   "execution_count": 1,
   "metadata": {},
   "outputs": [
    {
     "name": "stdout",
     "output_type": "stream",
     "text": [
      "[2, 4, 6, 8, 10]\n"
     ]
    }
   ],
   "source": [
    "from functools import reduce\n",
    "from typing import Callable, Iterable, List, TypeVar\n",
    "\n",
    "T = TypeVar('T')\n",
    "U = TypeVar('U')\n",
    "\n",
    "def custom_map(func: Callable[[T], U], iterable: Iterable[T]) -> List[U]:\n",
    "    \"\"\"\n",
    "    Apply a function to every item of an iterable and return a list of the results.\n",
    "\n",
    "    :param func: A function that takes an item of type T and returns an item of type U.\n",
    "    :param iterable: An iterable of type T.\n",
    "    :return: A list of items of type U after applying the function to each item in the iterable.\n",
    "    \"\"\"\n",
    "    def reducer(acc: List[U], item: T) -> List[U]:\n",
    "        return acc + [func(item)]\n",
    "\n",
    "    return reduce(reducer, iterable, [])\n",
    "\n",
    "# Example usage\n",
    "result = custom_map(lambda x: x * 2, [1, 2, 3, 4, 5])\n",
    "print(result)  # Output: [2, 4, 6, 8, 10]\n"
   ]
  }
 ],
 "metadata": {
  "kernelspec": {
   "display_name": ".venv",
   "language": "python",
   "name": "python3"
  },
  "language_info": {
   "codemirror_mode": {
    "name": "ipython",
    "version": 3
   },
   "file_extension": ".py",
   "mimetype": "text/x-python",
   "name": "python",
   "nbconvert_exporter": "python",
   "pygments_lexer": "ipython3",
   "version": "3.12.3"
  }
 },
 "nbformat": 4,
 "nbformat_minor": 2
}
